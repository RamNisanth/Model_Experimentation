{
  "cells": [
    {
      "cell_type": "markdown",
      "metadata": {
        "id": "SKQ4bH7qMGrA"
      },
      "source": [
        "# Experimenting keyBERT Library\n",
        "\n"
      ]
    },
    {
      "cell_type": "code",
      "source": [
        "from keybert import KeyBERT\n",
        "\n",
        "# Load the model (MiniLM is default and fast)\n",
        "kw_model = KeyBERT(model='all-MiniLM-L6-v2')\n",
        "\n",
        "text = \"\"\"\n",
        "Thank you for reaching out regarding the delivery issue. We apologize for the delay.\n",
        "Your package is on its way and should arrive by the end of the week.\n",
        "\"\"\"\n",
        "\n",
        "# Extract top 3 keywords/phrases\n",
        "keywords = kw_model.extract_keywords(text, keyphrase_ngram_range=(1, 3), stop_words='english', top_n=3)\n",
        "\n",
        "# Just print the keyword strings\n",
        "print([kw[0] for kw in keywords])\n"
      ],
      "metadata": {
        "colab": {
          "base_uri": "https://localhost:8080/"
        },
        "id": "-UnlnFN02Ixs",
        "outputId": "ea39fbc1-a0d4-4c83-99e0-916c0be17f85"
      },
      "execution_count": 4,
      "outputs": [
        {
          "output_type": "stream",
          "name": "stdout",
          "text": [
            "['reaching regarding delivery', 'arrive end week', 'delivery issue']\n"
          ]
        }
      ]
    }
  ],
  "metadata": {
    "colab": {
      "provenance": []
    },
    "kernelspec": {
      "display_name": "Python 3",
      "name": "python3"
    }
  },
  "nbformat": 4,
  "nbformat_minor": 0
}